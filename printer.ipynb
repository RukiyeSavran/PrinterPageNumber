{
 "cells": [
  {
   "cell_type": "markdown",
   "metadata": {},
   "source": [
    "# Printer Page Number Generator"
   ]
  },
  {
   "cell_type": "markdown",
   "metadata": {},
   "source": [
    "### 1 page per sheet"
   ]
  },
  {
   "cell_type": "code",
   "execution_count": 1,
   "metadata": {},
   "outputs": [
    {
     "name": "stdout",
     "output_type": "stream",
     "text": [
      "Enter start number: 387\n"
     ]
    }
   ],
   "source": [
    "s = input(\"Enter start number: \")"
   ]
  },
  {
   "cell_type": "code",
   "execution_count": 2,
   "metadata": {},
   "outputs": [
    {
     "name": "stdout",
     "output_type": "stream",
     "text": [
      "Enter  last page number: 414\n"
     ]
    }
   ],
   "source": [
    "x = input(\"Enter  last page number: \")"
   ]
  },
  {
   "cell_type": "code",
   "execution_count": 3,
   "metadata": {},
   "outputs": [],
   "source": [
    "List = range(s, x+1)"
   ]
  },
  {
   "cell_type": "markdown",
   "metadata": {},
   "source": [
    "###### First "
   ]
  },
  {
   "cell_type": "code",
   "execution_count": 4,
   "metadata": {
    "collapsed": true
   },
   "outputs": [],
   "source": [
    "odd_only = lambda seq : [ x for x in seq if str(x)[-1] in \"13579\" ]"
   ]
  },
  {
   "cell_type": "code",
   "execution_count": 5,
   "metadata": {},
   "outputs": [
    {
     "name": "stdout",
     "output_type": "stream",
     "text": [
      "[387, 389, 391, 393, 395, 397, 399, 401, 403, 405, 407, 409, 411, 413]\n"
     ]
    }
   ],
   "source": [
    "print str(odd_only(List))"
   ]
  },
  {
   "cell_type": "markdown",
   "metadata": {},
   "source": [
    "##### Second"
   ]
  },
  {
   "cell_type": "code",
   "execution_count": 6,
   "metadata": {},
   "outputs": [],
   "source": [
    "even_only = lambda seq : [ x for x in seq if str(x)[-1] in \"02468\" ]"
   ]
  },
  {
   "cell_type": "code",
   "execution_count": 7,
   "metadata": {},
   "outputs": [
    {
     "name": "stdout",
     "output_type": "stream",
     "text": [
      "[414, 412, 410, 408, 406, 404, 402, 400, 398, 396, 394, 392, 390, 388]\n"
     ]
    }
   ],
   "source": [
    "print str(even_only(List[::-1]))"
   ]
  },
  {
   "cell_type": "markdown",
   "metadata": {},
   "source": [
    "### 2 pages per sheet"
   ]
  },
  {
   "cell_type": "markdown",
   "metadata": {},
   "source": [
    "###### First "
   ]
  },
  {
   "cell_type": "code",
   "execution_count": 8,
   "metadata": {},
   "outputs": [
    {
     "name": "stdout",
     "output_type": "stream",
     "text": [
      "[387, 388, 391, 392, 395, 396, 399, 400, 403, 404, 407, 408, 411, 412]\n"
     ]
    }
   ],
   "source": [
    "two_first = List[0::4]\n",
    "a_ = List[1::4]\n",
    "n = 1\n",
    "for i in range(len(a_)):\n",
    "    two_first.insert(n,a_[i])\n",
    "    n +=2\n",
    "print str(two_first)"
   ]
  },
  {
   "cell_type": "markdown",
   "metadata": {},
   "source": [
    "##### Second"
   ]
  },
  {
   "cell_type": "code",
   "execution_count": 9,
   "metadata": {},
   "outputs": [
    {
     "name": "stdout",
     "output_type": "stream",
     "text": [
      "(413, 414, 409, 410, 405, 406, 401, 402, 397, 398, 393, 394, 389, 390)\n"
     ]
    }
   ],
   "source": [
    "b = List[2::4]\n",
    "b_ = List[3::4]\n",
    "n = 1\n",
    "for i in range(len(b_)):\n",
    "    b.insert(n,b_[i])\n",
    "    n +=2\n",
    "two_second = sum(zip(b[1::2], b[::2]), ())[::-1]\n",
    "print str(two_second)"
   ]
  },
  {
   "cell_type": "code",
   "execution_count": null,
   "metadata": {
    "collapsed": true
   },
   "outputs": [],
   "source": []
  }
 ],
 "metadata": {
  "kernelspec": {
   "display_name": "Python 2",
   "language": "python",
   "name": "python2"
  },
  "language_info": {
   "codemirror_mode": {
    "name": "ipython",
    "version": 2
   },
   "file_extension": ".py",
   "mimetype": "text/x-python",
   "name": "python",
   "nbconvert_exporter": "python",
   "pygments_lexer": "ipython2",
   "version": "2.7.13"
  }
 },
 "nbformat": 4,
 "nbformat_minor": 2
}
